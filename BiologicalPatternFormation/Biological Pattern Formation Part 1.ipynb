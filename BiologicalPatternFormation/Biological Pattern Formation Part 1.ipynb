{
 "cells": [
  {
   "cell_type": "markdown",
   "metadata": {},
   "source": [
    "# Choosing our system\n",
    "\n",
    "We first looked at \"Regular pattern formation in real ecosystems\" (Max Rietkerk and Johan van de Koppel, Trends in Ecology and Evolution Vol.23 No.3, 169-175 doi:10.1016/j.tree.2007.10.013). The main theoretical model developed in the paper is:\n",
    "\n",
    "> We reviewed studies from a wide range of ecosystems in which scale-dependent feedback is proposed to explain regular pattern formation. The mechanisms involved all correspond to Turing’s scale-dependent activator–inhibitor principle and only differ in the details.\n",
    "\n",
    "The class was most interested in two models:\n",
    "\n",
    "1. Savanna models (Figure 2C)\n",
    "2. Ribbon forests (Figure 2F)\n",
    "\n",
    "Our plan is to develop a model of Turing's scale-dependent activator-inhibitor principle, and match up to the above models."
   ]
  },
  {
   "cell_type": "markdown",
   "metadata": {},
   "source": [
    "# How does the activator-inhibitor model work?"
   ]
  },
  {
   "cell_type": "code",
   "execution_count": null,
   "metadata": {
    "collapsed": true
   },
   "outputs": [],
   "source": []
  }
 ],
 "metadata": {
  "kernelspec": {
   "display_name": "Python 2",
   "language": "python",
   "name": "python2"
  },
  "language_info": {
   "codemirror_mode": {
    "name": "ipython",
    "version": 2
   },
   "file_extension": ".py",
   "mimetype": "text/x-python",
   "name": "python",
   "nbconvert_exporter": "python",
   "pygments_lexer": "ipython2",
   "version": "2.7.9"
  }
 },
 "nbformat": 4,
 "nbformat_minor": 0
}
